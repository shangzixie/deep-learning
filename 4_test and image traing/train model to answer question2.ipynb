{
 "cells": [
  {
   "cell_type": "code",
   "execution_count": 0,
   "metadata": {
    "colab": {},
    "colab_type": "code",
    "id": "W55CaS95dtqP"
   },
   "outputs": [],
   "source": [
    "import matplotlib.image as mpimg\n",
    "import matplotlib.pyplot as plt\n",
    "import numpy as np\n",
    "import os\n",
    "import pickle\n",
    "import random\n",
    "import shutil\n",
    "import time\n",
    "import csv\n",
    "import IPython.display as display\n",
    "\n",
    "from google.colab import drive\n",
    "from PIL import Image\n",
    "from sklearn.model_selection import train_test_split"
   ]
  },
  {
   "cell_type": "code",
   "execution_count": 0,
   "metadata": {
    "colab": {},
    "colab_type": "code",
    "id": "IfSetYK1dvaT"
   },
   "outputs": [],
   "source": [
    "%tensorflow_version 2.x\n",
    "import tensorflow as tf"
   ]
  },
  {
   "cell_type": "code",
   "execution_count": 0,
   "metadata": {
    "colab": {},
    "colab_type": "code",
    "id": "20tRJwgUdyAF"
   },
   "outputs": [],
   "source": [
    "def download_if_missing(url, target, extract=True):\n",
    "  if os.path.exists(target):\n",
    "    return target\n",
    "  return tf.keras.utils.get_file(target, origin=url, extract=extract)"
   ]
  },
  {
   "cell_type": "markdown",
   "metadata": {
    "colab_type": "text",
    "id": "GKNgLhjovm5u"
   },
   "source": [
    "# Notebook two: Preprocessing and training\n",
    "Create a new notebook for this. At the start, download your starter CSV and thumbnails.zip.\n",
    "\n",
    "The starter code below assumes you have created a zip file called \"thumbnails.zip\" containing only the resized images from the COOC training set mentioned in the starter CSV, and that you can download it from a URL."
   ]
  },
  {
   "cell_type": "code",
   "execution_count": 0,
   "metadata": {
    "colab": {},
    "colab_type": "code",
    "id": "OvmVaibHKWj8"
   },
   "outputs": [],
   "source": [
    "colab_root = \"/content/\" "
   ]
  },
  {
   "cell_type": "markdown",
   "metadata": {
    "colab_type": "text",
    "id": "AzwWPJ5muPS4"
   },
   "source": [
    "### Download the starter CSV"
   ]
  },
  {
   "cell_type": "code",
   "execution_count": 0,
   "metadata": {
    "colab": {
     "base_uri": "https://localhost:8080/",
     "height": 68
    },
    "colab_type": "code",
    "executionInfo": {
     "elapsed": 1317,
     "status": "ok",
     "timestamp": 1574274404454,
     "user": {
      "displayName": "Chiqu Li",
      "photoUrl": "",
      "userId": "11343758097451996406"
     },
     "user_tz": 300
    },
    "id": "pRWzVQ7aLtX3",
    "outputId": "bbb31c4b-1662-48bb-c858-696819b9e0e2"
   },
   "outputs": [
    {
     "name": "stdout",
     "output_type": "stream",
     "text": [
      "Downloading data from https://storage.googleapis.com/applied-dl/mini-vqa/starter.csv\n",
      "9084928/9078552 [==============================] - 0s 0us/step\n"
     ]
    },
    {
     "data": {
      "text/plain": [
       "'/content/starter.csv'"
      ]
     },
     "execution_count": 9,
     "metadata": {
      "tags": []
     },
     "output_type": "execute_result"
    }
   ],
   "source": [
    "csv_path = os.path.join(colab_root, \"starter.csv\")\n",
    "download_if_missing(\"https://storage.googleapis.com/applied-dl/mini-vqa/starter.csv\",\n",
    "                     csv_path)"
   ]
  },
  {
   "cell_type": "code",
   "execution_count": 0,
   "metadata": {
    "colab": {},
    "colab_type": "code",
    "id": "ceQHUDq-L2h_"
   },
   "outputs": [],
   "source": [
    "YOUR_THUMBNAILS_URL = 'https://storage.cloud.google.com/adl_hw4_cl/thumbnails.zip?organizationId=819335046878'"
   ]
  },
  {
   "cell_type": "code",
   "execution_count": 0,
   "metadata": {
    "colab": {
     "base_uri": "https://localhost:8080/",
     "height": 34
    },
    "colab_type": "code",
    "executionInfo": {
     "elapsed": 299,
     "status": "ok",
     "timestamp": 1574216469840,
     "user": {
      "displayName": "Chiqu Li",
      "photoUrl": "",
      "userId": "11343758097451996406"
     },
     "user_tz": 300
    },
    "id": "PebNl4kiL7C2",
    "outputId": "4ce89de6-fa5c-4b10-bb74-1501f5153ce6"
   },
   "outputs": [
    {
     "data": {
      "text/plain": [
       "'/content/thumbnails.zip'"
      ]
     },
     "execution_count": 29,
     "metadata": {
      "tags": []
     },
     "output_type": "execute_result"
    }
   ],
   "source": [
    "thumbnails_file = os.path.join(colab_root, \"thumbnails.zip\")\n",
    "download_if_missing('https://storage.cloud.google.com/adl_hw4_cl/thumbnails.zip?organizationId=819335046878', thumbnails_file)"
   ]
  },
  {
   "cell_type": "code",
   "execution_count": 0,
   "metadata": {
    "colab": {},
    "colab_type": "code",
    "id": "4IEichI9Dbu4"
   },
   "outputs": [],
   "source": [
    "import zipfile\n",
    "with zipfile.ZipFile('/content/drive/My Drive/adl_data/thumbnails.zip', 'r') as zip_ref:\n",
    "    zip_ref.extractall('/content/thumbnails/')"
   ]
  },
  {
   "cell_type": "code",
   "execution_count": 0,
   "metadata": {
    "colab": {},
    "colab_type": "code",
    "id": "egFqfRUJL-T9"
   },
   "outputs": [],
   "source": [
    "!unzip -q /content/thumbnails.zip -d /content/image_folder_2"
   ]
  },
  {
   "cell_type": "code",
   "execution_count": 0,
   "metadata": {
    "colab": {
     "base_uri": "https://localhost:8080/",
     "height": 153
    },
    "colab_type": "code",
    "executionInfo": {
     "elapsed": 27536,
     "status": "ok",
     "timestamp": 1574274396010,
     "user": {
      "displayName": "Chiqu Li",
      "photoUrl": "",
      "userId": "11343758097451996406"
     },
     "user_tz": 300
    },
    "id": "nCEjE_dGMK5o",
    "outputId": "3cb56575-3252-4e68-d35e-afeefb61aa17"
   },
   "outputs": [
    {
     "name": "stdout",
     "output_type": "stream",
     "text": [
      "total 2.4M\n",
      "drwxr-xr-x 1 root root 4.0K Nov 20 18:25 .\n",
      "drwxr-xr-x 1 root root 4.0K Nov 20 18:11 ..\n",
      "drwxr-xr-x 1 root root 4.0K Nov 18 16:15 .config\n",
      "drwx------ 4 root root 4.0K Nov 20 18:25 drive\n",
      "drwxr-xr-x 1 root root 4.0K Nov 15 16:31 sample_data\n",
      "drwxr-xr-x 2 root root 2.4M Nov 20 18:25 thumbnails\n",
      "25G\t.\n"
     ]
    }
   ],
   "source": [
    "! ls -lha\n",
    "! du -sh"
   ]
  },
  {
   "cell_type": "markdown",
   "metadata": {
    "colab_type": "text",
    "id": "Jow9G9BTWLX0"
   },
   "source": [
    "### Sanity check\n",
    "\n",
    "At this point, you have all the data you need to train your model (questions, answers, and images) in a convenient and easy to read format. \n",
    "\n",
    "Now would be a good time for another santity check. Write a block of code to iterate over the starter CSV file. For each image, make sure you can locate it on disk. E.g., \n",
    "\n",
    "``` \n",
    "for question, answer, image_name in data:\n",
    "  img_path = os.path.join(images_folder, image_name)\n",
    "  assert os.path.exists(img_path)\n",
    "```\n",
    "\n",
    "Since we're in a new notebook, again display a few questions, answers, and images - verify everything works as expected."
   ]
  },
  {
   "cell_type": "code",
   "execution_count": 0,
   "metadata": {
    "colab": {},
    "colab_type": "code",
    "id": "t5X0F4f4WKtF"
   },
   "outputs": [],
   "source": [
    "with open('starter.csv') as myfile:\n",
    "  reader = csv.reader(myfile, delimiter=',')\n",
    "  for row in reader:\n",
    "    question, answer, image = row\n",
    "    image = image.strip()\n",
    "    assert os.path.exists(os.path.join('/content/thumbnails', image))"
   ]
  },
  {
   "cell_type": "markdown",
   "metadata": {
    "colab_type": "text",
    "id": "x63eBVVKWh12"
   },
   "source": [
    "### Convert answers to numeric format\n",
    "\n",
    "The answers in the starter CSV are \"yes\" or \"no\". For convenience, now would be a good time to change those to 1.0 and 0.0."
   ]
  },
  {
   "cell_type": "markdown",
   "metadata": {
    "colab_type": "text",
    "id": "HjEy2HIXx9c_"
   },
   "source": [
    "Here I use a dictionary to convert answers to numeric fotmat."
   ]
  },
  {
   "cell_type": "code",
   "execution_count": 0,
   "metadata": {
    "colab": {},
    "colab_type": "code",
    "id": "MbhqGpDpWi-O"
   },
   "outputs": [],
   "source": [
    "convert_answer = {'yes':1.0, 'no':0.0}"
   ]
  },
  {
   "cell_type": "markdown",
   "metadata": {
    "colab_type": "text",
    "id": "RGXrZEvZyg-Q"
   },
   "source": [
    "### Convert image names to absolute paths\n",
    "\n",
    "Next, for convenience, it may be helpful to update the images column in the starter CSV from filenames ```COCO_train2014_000000320111.jpg``` to absolute paths ```/content/images/COCO_train2014_000000320111.jpg```. This will save you some code down the road when it comes time to open them up (you won't need to worry about the relationship between where the starter CSV file is stored, and your images folder)."
   ]
  },
  {
   "cell_type": "code",
   "execution_count": 0,
   "metadata": {
    "colab": {},
    "colab_type": "code",
    "id": "kd-vwm30Y7xh"
   },
   "outputs": [],
   "source": [
    "absolute_path = {}\n",
    "with open('starter.csv') as myfile:\n",
    "  reader = csv.reader(myfile, delimiter=',')\n",
    "  for row in reader:\n",
    "    question, answer, image = row\n",
    "    absolute_path[image] = os.path.join('/content/thumbnails', image)\n"
   ]
  },
  {
   "cell_type": "markdown",
   "metadata": {
    "colab_type": "text",
    "id": "ydtnvLC6aXY1"
   },
   "source": [
    "### Convert image names to absolute paths\n",
    "\n",
    "Next, for convenience, it may be helpful to update the images column in the starter CSV from filenames ```COCO_train2014_000000320111.jpg``` to absolute paths ```/content/images/COCO_train2014_000000320111.jpg```. This will save you some code down the road when it comes time to open them up (you won't need to worry about the relationship between where the starter CSV file is stored, and your images folder)."
   ]
  },
  {
   "cell_type": "code",
   "execution_count": 0,
   "metadata": {
    "colab": {},
    "colab_type": "code",
    "id": "UUmuVajvaUjM"
   },
   "outputs": [],
   "source": [
    "with open('starter.csv') as myfile:\n",
    "   reader = csv.reader(myfile, delimiter=',')\n",
    "   \n",
    "   origin_set = [i for i in reader]\n",
    "   test_set = random.choices(origin_set, k = 4000)\n",
    "   rough_trianset = [i for i in origin_set if i not in test_set]"
   ]
  },
  {
   "cell_type": "markdown",
   "metadata": {
    "colab_type": "text",
    "id": "sQI28URwc_FN"
   },
   "source": [
    "### Limit the size of the dataset, and balance.\n",
    "\n",
    "The dataset is fairly large. Let's simplify and start small. Instead of working with +/-100,000 questions - a better number would be about 20,000 questions.\n",
    "\n",
    "As a suggestion, you may also want to balance the data (so you have an equal number of positive and negative questions), just to make it a bit easier to debug your model and verify it's training as expected."
   ]
  },
  {
   "cell_type": "code",
   "execution_count": 0,
   "metadata": {
    "colab": {},
    "colab_type": "code",
    "id": "W6M-4g9GdBpd"
   },
   "outputs": [],
   "source": [
    "balance_dataset = []\n",
    "num1 = num0 = 0\n",
    "for row in rough_trianset:\n",
    "  question, answer, image = row\n",
    "  if convert_answer[answer] and num1 < 10000:\n",
    "    balance_dataset.append(row)\n",
    "    num1 += 1\n",
    "  elif num0 < 10000:\n",
    "    balance_dataset.append(row)\n",
    "    num0 += 1\n",
    "  if num0 == 10000 and num1 == 10000:\n",
    "    break"
   ]
  },
  {
   "cell_type": "markdown",
   "metadata": {
    "colab_type": "text",
    "id": "iYbN01aBoFzs"
   },
   "source": [
    "### Create training and validation sets\n",
    "You may want to do an 80:20 split on your balanced training set, giving you 16,000 training rows, and 4,000 validation rows."
   ]
  },
  {
   "cell_type": "code",
   "execution_count": 0,
   "metadata": {
    "colab": {},
    "colab_type": "code",
    "id": "TebtPnkpoFBi"
   },
   "outputs": [],
   "source": [
    "from sklearn.model_selection import train_test_split\n",
    "training_set, validation_set = train_test_split(balance_dataset, test_size = 0.2)"
   ]
  },
  {
   "cell_type": "markdown",
   "metadata": {
    "colab_type": "text",
    "id": "bvyYHn7DpANa"
   },
   "source": [
    "### Verify your train and validation sets look as expected\n",
    "You cannot spend too much time exploring the data. When I'm developing code for something like this on my own, I often run methods to verify that these splits have the number of rows I expect, to display a few images from each, and to see stats on the class balance. I also write code to verify the splits contain *only* yes/no answers. You may be tired of coding defensively at this point, but I assure you (especially when working with new and increasingly complicated datasets, this effort **always** pays off)."
   ]
  },
  {
   "cell_type": "code",
   "execution_count": 0,
   "metadata": {
    "colab": {
     "base_uri": "https://localhost:8080/",
     "height": 68
    },
    "colab_type": "code",
    "executionInfo": {
     "elapsed": 843,
     "status": "ok",
     "timestamp": 1574274635975,
     "user": {
      "displayName": "Chiqu Li",
      "photoUrl": "",
      "userId": "11343758097451996406"
     },
     "user_tz": 300
    },
    "id": "omGsQULlo_5L",
    "outputId": "9e49220a-1b4e-4882-fc5f-984e28cd5066"
   },
   "outputs": [
    {
     "name": "stdout",
     "output_type": "stream",
     "text": [
      "training_set length: 16000\n",
      "validation_set length: 4000\n",
      "test_set length: 4000\n"
     ]
    }
   ],
   "source": [
    "#verify length of each set\n",
    "print('training_set length:', len(training_set))\n",
    "print('validation_set length:', len(validation_set))\n",
    "print('test_set length:', len(test_set))"
   ]
  },
  {
   "cell_type": "code",
   "execution_count": 0,
   "metadata": {
    "colab": {
     "base_uri": "https://localhost:8080/",
     "height": 34
    },
    "colab_type": "code",
    "executionInfo": {
     "elapsed": 925,
     "status": "ok",
     "timestamp": 1574274638204,
     "user": {
      "displayName": "Chiqu Li",
      "photoUrl": "",
      "userId": "11343758097451996406"
     },
     "user_tz": 300
    },
    "id": "iLUC9OlXp4bY",
    "outputId": "77a511bb-76dd-400e-da6e-ca91faaf1868"
   },
   "outputs": [
    {
     "name": "stdout",
     "output_type": "stream",
     "text": [
      "yes anwser percentage=  0.5011875\n"
     ]
    }
   ],
   "source": [
    "#verify banlance of yes and no\n",
    "number_0 = number_1 = 0\n",
    "for row in training_set:\n",
    "  question, answer, image = row\n",
    "  if convert_answer[answer]:\n",
    "    number_1 += 1\n",
    "  else:\n",
    "    number_0 += 1\n",
    "print('yes anwser percentage= ', number_1/(number_1+number_0))"
   ]
  },
  {
   "cell_type": "markdown",
   "metadata": {
    "colab_type": "text",
    "id": "JUs8aiR3z_a_"
   },
   "source": [
    "Answer 'yes' takes up about 50%, so the dataset is balanced."
   ]
  },
  {
   "cell_type": "code",
   "execution_count": 0,
   "metadata": {
    "colab": {
     "base_uri": "https://localhost:8080/",
     "height": 714
    },
    "colab_type": "code",
    "executionInfo": {
     "elapsed": 1038,
     "status": "ok",
     "timestamp": 1574274665849,
     "user": {
      "displayName": "Chiqu Li",
      "photoUrl": "",
      "userId": "11343758097451996406"
     },
     "user_tz": 300
    },
    "id": "N6kZCKqPtSBE",
    "outputId": "84743c82-07b6-45a9-ee85-e513949fe481"
   },
   "outputs": [
    {
     "name": "stdout",
     "output_type": "stream",
     "text": [
      "/content/thumbnails/COCO_train2014_000000137056.jpg\n"
     ]
    },
    {
     "data": {
      "image/jpeg": "[encoded data removed]",
      "text/plain": [
       "<IPython.core.display.Image object>"
      ]
     },
     "metadata": {
      "tags": []
     },
     "output_type": "display_data"
    },
    {
     "name": "stdout",
     "output_type": "stream",
     "text": [
      "/content/thumbnails/COCO_train2014_000000271395.jpg\n"
     ]
    },
    {
     "data": {
      "image/jpeg": "[encoded data removed]",
      "text/plain": [
       "<IPython.core.display.Image object>"
      ]
     },
     "metadata": {
      "tags": []
     },
     "output_type": "display_data"
    },
    {
     "name": "stdout",
     "output_type": "stream",
     "text": [
      "/content/thumbnails/COCO_train2014_000000138585.jpg\n"
     ]
    },
    {
     "data": {
      "image/jpeg": "[encoded data removed]",
      "text/plain": [
       "<IPython.core.display.Image object>"
      ]
     },
     "metadata": {
      "tags": []
     },
     "output_type": "display_data"
    }
   ],
   "source": [
    "#display images each\n",
    "train_image_path = absolute_path[random.choice(training_set)[-1]]\n",
    "validation_image_path = absolute_path[random.choice(validation_set)[-1]]\n",
    "test_image_path = absolute_path[random.choice(test_set)[-1]]\n",
    "# print(absolute_path[random.choice(training_set)[-1]])\n",
    "to_display = [train_image_path, validation_image_path, test_image_path]\n",
    "for i in to_display:\n",
    "  print(i)\n",
    "  display.display(display.Image(i))\n"
   ]
  },
  {
   "cell_type": "markdown",
   "metadata": {
    "colab_type": "text",
    "id": "GlVbx6W11fPp"
   },
   "source": [
    "\n",
    "### Forward your images through InceptionV3, and cache activations to disk\n",
    "\n",
    "Rather than training a CNN from scratch for your VQA model, you'll begin by using activations from a pretrained model.  \n",
    "\n",
    "* Instead of forward each image repeatedly through the model while training (which will be slow), let's do that once and save the activations to disk. \n",
    "\n",
    "* We're saving them to disk (rather than keeping them in memory) to accomodate different sizes of datasets down the road.\n",
    "\n",
    "I've written a good deal of this code for you, but you should go through it and carefully understand how it works."
   ]
  },
  {
   "cell_type": "code",
   "execution_count": 0,
   "metadata": {
    "colab": {
     "base_uri": "https://localhost:8080/",
     "height": 71
    },
    "colab_type": "code",
    "executionInfo": {
     "elapsed": 9108,
     "status": "ok",
     "timestamp": 1574274680922,
     "user": {
      "displayName": "Chiqu Li",
      "photoUrl": "",
      "userId": "11343758097451996406"
     },
     "user_tz": 300
    },
    "id": "KkB1Cvmzu0L_",
    "outputId": "8cfd1080-5cc0-478a-ca97-7c61585646e6"
   },
   "outputs": [
    {
     "name": "stdout",
     "output_type": "stream",
     "text": [
      "Downloading data from https://github.com/fchollet/deep-learning-models/releases/download/v0.5/inception_v3_weights_tf_dim_ordering_tf_kernels_notop.h5\n",
      "87916544/87910968 [==============================] - 3s 0us/step\n"
     ]
    }
   ],
   "source": [
    "# Create a feature extraction model.\n",
    "# You should not need to modify this (though you may, if you'd like\n",
    "# to use a model other than Inception).\n",
    "image_model = tf.keras.applications.InceptionV3(include_top=False,\n",
    "                                                weights='imagenet')\n",
    "new_input = image_model.input\n",
    "hidden_layer = image_model.layers[-1].output\n",
    "image_features_extract_model = tf.keras.Model(new_input, hidden_layer)"
   ]
  },
  {
   "cell_type": "code",
   "execution_count": 0,
   "metadata": {
    "colab": {},
    "colab_type": "code",
    "id": "nI6C9YxM2Fqd"
   },
   "outputs": [],
   "source": [
    "# A method to load an image off disk, and extract activations using \n",
    "# the model above. You should not need to modify this.\n",
    "def image_to_activations(image_path):\n",
    "  img = tf.io.read_file(image_path)\n",
    "  img = tf.image.decode_jpeg(img, channels=3)\n",
    "  img = tf.image.resize(img, (299, 299))\n",
    "  activations = tf.keras.applications.inception_v3.preprocess_input(img)\n",
    "  return activations, image_path"
   ]
  },
  {
   "cell_type": "code",
   "execution_count": 0,
   "metadata": {
    "colab": {
     "base_uri": "https://localhost:8080/",
     "height": 51
    },
    "colab_type": "code",
    "executionInfo": {
     "elapsed": 901,
     "status": "ok",
     "timestamp": 1574274686582,
     "user": {
      "displayName": "Chiqu Li",
      "photoUrl": "",
      "userId": "11343758097451996406"
     },
     "user_tz": 300
    },
    "id": "yI6CHjYd2LXi",
    "outputId": "96c76856-8238-45aa-e619-b544a74838cc"
   },
   "outputs": [
    {
     "name": "stdout",
     "output_type": "stream",
     "text": [
      "Images to preprocess 9656\n",
      "This make take a few minutes\n"
     ]
    }
   ],
   "source": [
    "# Your code here\n",
    "\n",
    "# You'll need to extract activations for every image in your train, validation,\n",
    "# and test set. First, create a set of the absolute paths to all of these images \n",
    "# (image_path_set). Populate this with the absolute paths to all these images.\n",
    "image_path_set = set()\n",
    "for img in training_set:\n",
    "  image_path_set.add(absolute_path[img[-1]])\n",
    "for img in validation_set:\n",
    "  image_path_set.add(absolute_path[img[-1]])\n",
    "for img in test_set:\n",
    "  image_path_set.add(absolute_path[img[-1]])\n",
    "\n",
    "print(\"Images to preprocess\", len(image_path_set))\n",
    "print(\"This make take a few minutes\")"
   ]
  },
  {
   "cell_type": "code",
   "execution_count": 0,
   "metadata": {
    "colab": {},
    "colab_type": "code",
    "id": "7ba-bmDe2RZZ"
   },
   "outputs": [],
   "source": [
    "# This cell will extract activations for each image and save them to disk \n",
    "# in NumPy format. You should not need to modify this.\n",
    "\n",
    "# Note: we're not saving these activations to the cloud,\n",
    "# but you certainly could if you wanted to skip this step \n",
    "# in the future. If you look into doing that, it's best to save one large\n",
    "# zip with the activations, and download that and extract it locally\n",
    "# (rather than doing a bunch of network access to retrieve individual files),\n",
    "# especially when training your model.\n",
    "\n",
    "# Create a dataset to load each image off disk, and extract activations\n",
    "activation_dataset = tf.data.Dataset.from_tensor_slices(list(image_path_set))\n",
    "activation_dataset = activation_dataset.map(\n",
    "  image_to_activations, \n",
    "  num_parallel_calls=tf.data.experimental.AUTOTUNE).batch(32)\n",
    "\n",
    "# Save all activations to disk in NumPy format\n",
    "for img_batch, path_batch in activation_dataset:\n",
    "  batch_features = image_features_extract_model(img_batch)\n",
    "  for bf, p in zip(batch_features, path_batch):\n",
    "    path_of_feature = p.numpy().decode(\"utf-8\")\n",
    "    np.save(path_of_feature, bf.numpy()) "
   ]
  },
  {
   "cell_type": "markdown",
   "metadata": {
    "colab_type": "text",
    "id": "I7WzmMbV8Q8B"
   },
   "source": [
    "### Create lists of questions, answers, and images for your train, validation, and test set\n",
    "\n",
    "At this point, you may be reading your starter CSV directly from disk, or you may have your own data structure in memory. Since many of the methods we'll call from this point forward take lists as input, you may find it helpful to create a data structure with three lists, that correspond to the columns from your starter CSV."
   ]
  },
  {
   "cell_type": "code",
   "execution_count": 0,
   "metadata": {
    "colab": {},
    "colab_type": "code",
    "id": "kzUBtyiT7PiF"
   },
   "outputs": [],
   "source": [
    "questions_train = [i[0] for i in training_set] # a list of questions in your training set\n",
    "answers_train = [convert_answer[i[1]] for i in training_set]# a list of answers (in numeric format) in your training set \n",
    "images_train = [absolute_path[i[2]] for i in training_set] # a list of absolute paths to images in your training set"
   ]
  },
  {
   "cell_type": "code",
   "execution_count": 0,
   "metadata": {
    "colab": {},
    "colab_type": "code",
    "id": "H9nu4nFf9oFC"
   },
   "outputs": [],
   "source": [
    "questions_val = [i[0] for i in validation_set] \n",
    "answers_val = [convert_answer[i[1]] for i in validation_set]\n",
    "images_val = [absolute_path[i[2]] for i in validation_set]"
   ]
  },
  {
   "cell_type": "code",
   "execution_count": 0,
   "metadata": {
    "colab": {},
    "colab_type": "code",
    "id": "S02744XL960K"
   },
   "outputs": [],
   "source": [
    "questions_test = [i[0] for i in test_set] \n",
    "answers_test = [convert_answer[i[1]] for i in test_set]\n",
    "images_test = [absolute_path[i[2]] for i in test_set]"
   ]
  },
  {
   "cell_type": "markdown",
   "metadata": {
    "colab_type": "text",
    "id": "a709PIXq-T8D"
   },
   "source": [
    "### Create and fit a tokenizer\n",
    "\n",
    "Your model will use a LSTM to process the questions. First, you'll need to vectorize your text. Tokenize the questions, and limit the vocabulary size to a reasonable size (for example, the top 3,000 words). A larger size will make a higher accuracy possible, but complicate and slow your model. Reminder: fit the tokenizer only on the training questions."
   ]
  },
  {
   "cell_type": "code",
   "execution_count": 0,
   "metadata": {
    "colab": {},
    "colab_type": "code",
    "id": "G4vJmeS4-WyL"
   },
   "outputs": [],
   "source": [
    "VOCAB_SIZE = 3000"
   ]
  },
  {
   "cell_type": "code",
   "execution_count": 0,
   "metadata": {
    "colab": {},
    "colab_type": "code",
    "id": "kES48VYPAF8Q"
   },
   "outputs": [],
   "source": [
    "tokenizer = tf.keras.preprocessing.text.Tokenizer(num_words=VOCAB_SIZE)\n",
    "tokenizer.fit_on_texts(questions_train)"
   ]
  },
  {
   "cell_type": "code",
   "execution_count": 0,
   "metadata": {
    "colab": {
     "base_uri": "https://localhost:8080/",
     "height": 34
    },
    "colab_type": "code",
    "executionInfo": {
     "elapsed": 1061,
     "status": "ok",
     "timestamp": 1574277746804,
     "user": {
      "displayName": "Chiqu Li",
      "photoUrl": "",
      "userId": "11343758097451996406"
     },
     "user_tz": 300
    },
    "id": "HVgfnxYEAO_F",
    "outputId": "263fbf57-5428-430d-c8dc-28fe73d91ffb"
   },
   "outputs": [
    {
     "name": "stdout",
     "output_type": "stream",
     "text": [
      "Word index 4734\n"
     ]
    }
   ],
   "source": [
    "print(\"Word index\", len(tokenizer.word_index))"
   ]
  },
  {
   "cell_type": "markdown",
   "metadata": {
    "colab_type": "text",
    "id": "YqkhswT9AisH"
   },
   "source": [
    "### Vectorize the questions\n",
    "In this section, you will use your tokenizer to vectorize the questions using ```texts_to_sequences```. For an example of texts_to_sequences, see this [notebook](https://github.com/fchollet/deep-learning-with-python-notebooks/blob/master/6.1-one-hot-encoding-of-words-or-characters.ipynb).\n"
   ]
  },
  {
   "cell_type": "code",
   "execution_count": 0,
   "metadata": {
    "colab": {
     "base_uri": "https://localhost:8080/",
     "height": 34
    },
    "colab_type": "code",
    "executionInfo": {
     "elapsed": 1039,
     "status": "ok",
     "timestamp": 1574277750418,
     "user": {
      "displayName": "Chiqu Li",
      "photoUrl": "",
      "userId": "11343758097451996406"
     },
     "user_tz": 300
    },
    "id": "NagcT-5TAkfs",
    "outputId": "163f2753-f555-40c6-b376-8972aec70a5e"
   },
   "outputs": [
    {
     "name": "stdout",
     "output_type": "stream",
     "text": [
      "Found 4734 unique tokens.\n"
     ]
    }
   ],
   "source": [
    "sequences_train = tokenizer.texts_to_sequences(questions_train)\n",
    "sequences_val = tokenizer.texts_to_sequences(questions_val)\n",
    "sequences_test = tokenizer.texts_to_sequences(questions_test)\n",
    "# This is how you can recover the word index that was computed\n",
    "word_index = tokenizer.word_index\n",
    "print('Found %s unique tokens.' %len(word_index))"
   ]
  },
  {
   "cell_type": "markdown",
   "metadata": {
    "colab_type": "text",
    "id": "7tWFPn6DEYg9"
   },
   "source": [
    "### Pad sequences\n",
    "\n",
    "In this section, you will pad the vectorized questions using ```pad_sequences```. Your maximum sequence length is a design decision, just like vocab size. Advice, start with something short, so your model trains faster (maybe, between 10 and 20).\n",
    "\n",
    "For an example of pad_sequences, see this [notebook](https://github.com/fchollet/deep-learning-with-python-notebooks/blob/master/6.2-understanding-recurrent-neural-networks.ipynb)."
   ]
  },
  {
   "cell_type": "code",
   "execution_count": 0,
   "metadata": {
    "colab": {
     "base_uri": "https://localhost:8080/",
     "height": 34
    },
    "colab_type": "code",
    "executionInfo": {
     "elapsed": 1006,
     "status": "ok",
     "timestamp": 1574277755313,
     "user": {
      "displayName": "Chiqu Li",
      "photoUrl": "",
      "userId": "11343758097451996406"
     },
     "user_tz": 300
    },
    "id": "P1No2qKyBnpz",
    "outputId": "94b2c85e-9f1d-43b0-88d8-7f33d42b3074"
   },
   "outputs": [
    {
     "name": "stderr",
     "output_type": "stream",
     "text": [
      "Using TensorFlow backend.\n"
     ]
    }
   ],
   "source": [
    "from keras.preprocessing import sequence"
   ]
  },
  {
   "cell_type": "code",
   "execution_count": 0,
   "metadata": {
    "colab": {},
    "colab_type": "code",
    "id": "2UsDXmGMoVFC"
   },
   "outputs": [],
   "source": [
    "def count_words(str):\n",
    "  count = 1\n",
    "  for i in str:\n",
    "    if i.isspace():\n",
    "      count += 1\n",
    "  return count"
   ]
  },
  {
   "cell_type": "code",
   "execution_count": 0,
   "metadata": {
    "colab": {
     "base_uri": "https://localhost:8080/",
     "height": 34
    },
    "colab_type": "code",
    "executionInfo": {
     "elapsed": 820,
     "status": "ok",
     "timestamp": 1574300909260,
     "user": {
      "displayName": "Chiqu Li",
      "photoUrl": "",
      "userId": "11343758097451996406"
     },
     "user_tz": 300
    },
    "id": "j_RzhSAqoUzz",
    "outputId": "935d066a-7d02-459b-b263-e1d7dd0f1c1c"
   },
   "outputs": [
    {
     "name": "stdout",
     "output_type": "stream",
     "text": [
      "20\n"
     ]
    }
   ],
   "source": [
    "question_word_count = []\n",
    "for question in questions_train:\n",
    "  question_word_count.append(count_words(question))\n",
    "max_word = max(question_word_count)\n",
    "print(max_word)"
   ]
  },
  {
   "cell_type": "markdown",
   "metadata": {
    "colab_type": "text",
    "id": "qj_sjhUHpg-Z"
   },
   "source": [
    "Here I get max question length is 20, so I choose MAX_SEQ_LEN = 20"
   ]
  },
  {
   "cell_type": "code",
   "execution_count": 0,
   "metadata": {
    "colab": {},
    "colab_type": "code",
    "id": "aUyuNnUcEkDS"
   },
   "outputs": [],
   "source": [
    "max_features = 10000  # number of words to consider as features\n",
    "MAX_SEQ_LEN = 20 # cut texts after this number of words (among top max_features most common words)\n",
    "batch_size = 32"
   ]
  },
  {
   "cell_type": "code",
   "execution_count": 0,
   "metadata": {
    "colab": {
     "base_uri": "https://localhost:8080/",
     "height": 85
    },
    "colab_type": "code",
    "executionInfo": {
     "elapsed": 951,
     "status": "ok",
     "timestamp": 1574286799310,
     "user": {
      "displayName": "Chiqu Li",
      "photoUrl": "",
      "userId": "11343758097451996406"
     },
     "user_tz": 300
    },
    "id": "XNlJIIZPE2xg",
    "outputId": "5dd57ec0-b42c-464b-8a53-5d5bf5b525c7"
   },
   "outputs": [
    {
     "name": "stdout",
     "output_type": "stream",
     "text": [
      "Pad sequences\n",
      "padded_train shape: (16000, 20)\n",
      "padded_val shape: (4000, 20)\n",
      "padded_test shape: (4000, 20)\n"
     ]
    }
   ],
   "source": [
    "print('Pad sequences')\n",
    "\n",
    "padded_train = sequence.pad_sequences(sequences_train, maxlen = MAX_SEQ_LEN)\n",
    "padded_val = sequence.pad_sequences(sequences_val, maxlen = MAX_SEQ_LEN)\n",
    "padded_test = sequence.pad_sequences(sequences_test, maxlen = MAX_SEQ_LEN)\n",
    "print('padded_train shape:', padded_train.shape)\n",
    "print('padded_val shape:', padded_val.shape)\n",
    "print('padded_test shape:', padded_test.shape)"
   ]
  },
  {
   "cell_type": "markdown",
   "metadata": {
    "colab_type": "text",
    "id": "2TuDA99UF4nV"
   },
   "source": [
    "### Sanity check\n",
    "You've just done a **bunch** of preprocessing. Optionally, now would be a good time to write a block of code to verify the tokenized and padded sequences are in the format you expect."
   ]
  },
  {
   "cell_type": "code",
   "execution_count": 0,
   "metadata": {
    "colab": {
     "base_uri": "https://localhost:8080/",
     "height": 119
    },
    "colab_type": "code",
    "executionInfo": {
     "elapsed": 873,
     "status": "ok",
     "timestamp": 1574301341861,
     "user": {
      "displayName": "Chiqu Li",
      "photoUrl": "",
      "userId": "11343758097451996406"
     },
     "user_tz": 300
    },
    "id": "zWTEiZcyF5_U",
    "outputId": "cc1d5e95-5444-451d-fbec-f1c10cdc637e"
   },
   "outputs": [
    {
     "name": "stdout",
     "output_type": "stream",
     "text": [
      "[1, 2, 340, 300]\n",
      "[['is', 'the', 'banana', 'closed']]\n",
      "[1, 2, 33, 352]\n",
      "[['is', 'the', 'water', 'dirty']]\n",
      "[5, 39, 2, 81, 131, 8]\n",
      "[['are', 'all', 'the', 'street', 'lights', 'on']]\n"
     ]
    }
   ],
   "source": [
    "#convert from a vectorized question back to a string.\n",
    "reverse_word = dict(map(reversed, tokenizer.word_index.items()))\n",
    "\n",
    "def sequence_text(indices):\n",
    "  words = [reverse_word.get(letter) for letter in indices]\n",
    "  return words\n",
    "\n",
    "for item in sequences_train[3:6]:\n",
    "  print(item)\n",
    "  texts = list(map(sequence_text, [item]))\n",
    "  print(texts)"
   ]
  },
  {
   "cell_type": "markdown",
   "metadata": {
    "colab_type": "text",
    "id": "pAmm3_scG3Im"
   },
   "source": [
    "### Create a tf.dataset for training, validation, and testing\n",
    "\n",
    "The method to create the dataset is provided for you, though you will need to get it working by passing the ```padded_train```, ```answers_train``` ```and images_train``` lists you created above.\n",
    "\n",
    "\n"
   ]
  },
  {
   "cell_type": "code",
   "execution_count": 0,
   "metadata": {
    "colab": {},
    "colab_type": "code",
    "id": "3KbDqAd4G4AZ"
   },
   "outputs": [],
   "source": [
    "# You should not need to modify this.\n",
    "BATCH_SIZE = 32\n",
    "BUFFER_SIZE = 1000\n",
    "def load_np(img_path, question, answer):\n",
    "  activations = np.load(img_path.decode('utf-8')+'.npy')\n",
    "  return activations, question, answer, img_path\n",
    "\n",
    "# This method will create a dataset that returns four elements.\n",
    "# - a batch of activations (loaded from disk)\n",
    "# - a batch of padded questions\n",
    "# - a batch of numeric answers\n",
    "# - a batch of absolute paths to the corresponding images\n",
    "def create_dataset(images, sequences, answers):\n",
    "  dataset = tf.data.Dataset.from_tensor_slices((images, \n",
    "                                                sequences, \n",
    "                                                answers))\n",
    "  # TODO jbgordon@: rewrite this to be clearer\n",
    "  # Load the cached activations off disk\n",
    "  dataset = dataset.map(lambda x, y, z: tf.numpy_function(\n",
    "      load_np, [x, y, z], [tf.float32, tf.int32, tf.float32, tf.string]),\n",
    "      num_parallel_calls=tf.data.experimental.AUTOTUNE)\n",
    "  \n",
    "  # Shuffle and batch\n",
    "  dataset = dataset.shuffle(BUFFER_SIZE).batch(BATCH_SIZE)\n",
    "  dataset = dataset.prefetch(buffer_size=tf.data.experimental.AUTOTUNE)\n",
    "  return dataset\n",
    "\n",
    "# Call the above method to create train, val, and test datasets.\n",
    "train_ds = create_dataset(images_train, padded_train, answers_train)\n",
    "val_ds = create_dataset(images_val, padded_val, answers_val)\n",
    "test_ds = create_dataset(images_test, padded_test, answers_test)"
   ]
  },
  {
   "cell_type": "markdown",
   "metadata": {
    "colab_type": "text",
    "id": "1G78matYGi_p"
   },
   "source": [
    "### Sanity check (optional)\n",
    "That dataset creation method is complicated. Write a block of code that demonstrates how to use the dataset (e.g., retrieve a batch of activations, questions, answeres, and images paths) and verify they look as expected."
   ]
  },
  {
   "cell_type": "code",
   "execution_count": 0,
   "metadata": {
    "colab": {
     "base_uri": "https://localhost:8080/",
     "height": 34
    },
    "colab_type": "code",
    "executionInfo": {
     "elapsed": 1136,
     "status": "ok",
     "timestamp": 1574303975839,
     "user": {
      "displayName": "Chiqu Li",
      "photoUrl": "",
      "userId": "11343758097451996406"
     },
     "user_tz": 300
    },
    "id": "_I7nfm4bGisP",
    "outputId": "34cb8975-d98d-493c-9c7a-41a439926f6c"
   },
   "outputs": [
    {
     "name": "stdout",
     "output_type": "stream",
     "text": [
      "(32, 8, 8, 2048) (32, 20) (32,) (32,)\n"
     ]
    }
   ],
   "source": [
    "my_iterator = iter(train_ds)\n",
    "activations_batch, questions_batch, answers_batch, paths_batch = next(my_iterator)\n",
    "\n",
    "print(activations_batch.shape, \n",
    "      questions_batch.shape, \n",
    "      answers_batch.shape, \n",
    "      paths_batch.shape)"
   ]
  },
  {
   "cell_type": "code",
   "execution_count": 0,
   "metadata": {
    "colab": {
     "base_uri": "https://localhost:8080/",
     "height": 34
    },
    "colab_type": "code",
    "executionInfo": {
     "elapsed": 1253,
     "status": "ok",
     "timestamp": 1574303978133,
     "user": {
      "displayName": "Chiqu Li",
      "photoUrl": "",
      "userId": "11343758097451996406"
     },
     "user_tz": 300
    },
    "id": "rjtlLCnrGuqM",
    "outputId": "e3e8598d-64cc-4048-8726-2359374df3a0"
   },
   "outputs": [
    {
     "name": "stdout",
     "output_type": "stream",
     "text": [
      "(32, 8, 8, 2048) (32, 20) (32,) (32,)\n"
     ]
    }
   ],
   "source": [
    "my_iterator = iter(val_ds)\n",
    "activations_batch, questions_batch, answers_batch, paths_batch = next(my_iterator)\n",
    "\n",
    "print(activations_batch.shape, \n",
    "      questions_batch.shape, \n",
    "      answers_batch.shape, \n",
    "      paths_batch.shape)"
   ]
  },
  {
   "cell_type": "code",
   "execution_count": 0,
   "metadata": {
    "colab": {
     "base_uri": "https://localhost:8080/",
     "height": 34
    },
    "colab_type": "code",
    "executionInfo": {
     "elapsed": 1131,
     "status": "ok",
     "timestamp": 1574303979946,
     "user": {
      "displayName": "Chiqu Li",
      "photoUrl": "",
      "userId": "11343758097451996406"
     },
     "user_tz": 300
    },
    "id": "BmmjW5DyGvbv",
    "outputId": "4384fc2b-f4e4-4f67-de4a-f30aef72b4d0"
   },
   "outputs": [
    {
     "name": "stdout",
     "output_type": "stream",
     "text": [
      "(32, 8, 8, 2048) (32, 20) (32,) (32,)\n"
     ]
    }
   ],
   "source": [
    "my_iterator = iter(test_ds)\n",
    "activations_batch, questions_batch, answers_batch, paths_batch = next(my_iterator)\n",
    "\n",
    "print(activations_batch.shape, \n",
    "      questions_batch.shape, \n",
    "      answers_batch.shape, \n",
    "      paths_batch.shape)"
   ]
  },
  {
   "cell_type": "markdown",
   "metadata": {
    "colab_type": "text",
    "id": "3M0QrCEKG1EK"
   },
   "source": [
    "### Define your VQA model\n",
    "\n",
    "You can base your code off the example give toward bottom of this [guide](https://keras.io/getting-started/functional-api-guide/) (but use a smaller model to start). Aim for a couple hundred thousand parameters or so"
   ]
  },
  {
   "cell_type": "code",
   "execution_count": 0,
   "metadata": {
    "colab": {},
    "colab_type": "code",
    "id": "UYDozwJAG0WP"
   },
   "outputs": [],
   "source": [
    "from tensorflow.keras.layers import Dense, Embedding, Flatten, Input, LSTM\n",
    "from tensorflow.keras.models import Model, Sequential"
   ]
  },
  {
   "cell_type": "code",
   "execution_count": 0,
   "metadata": {
    "colab": {},
    "colab_type": "code",
    "id": "zuZqOaG_G9cp"
   },
   "outputs": [],
   "source": [
    "# Input to your vision model (activations from Inception-V3,\n",
    "# loaded off disk disk by the dataset above).\n",
    "image_input = Input(shape=(8, 8, 2048)) \n",
    "vision_model = Sequential()\n",
    "# Used to reduce the number of parameters (rather using a dense layer here).\n",
    "vision_model.add(tf.keras.layers.GlobalAveragePooling2D())\n",
    "# Output of your vision model\n",
    "encoded_image = vision_model(image_input) \n",
    "\n",
    "# Write your test processing model that takes the vectorized and padded\n",
    "# question as input.\n",
    "question_input = Input(shape=(20,), dtype='int32')\n",
    "embedded_question = Embedding(input_dim=4737, output_dim=256, input_length=100)(question_input)\n",
    "encoded_question = LSTM(256)(embedded_question)\n",
    "\n",
    "merged = tf.keras.layers.concatenate([encoded_image, encoded_question])\n",
    "#add a small dense layer\n",
    "output = Dense(8, activation='relu')(merged)\n",
    "\n",
    "output = Dense(1, activation='sigmoid')(output)\n",
    "#final model\n",
    "model = Model(inputs=[image_input, question_input], outputs=output)"
   ]
  },
  {
   "cell_type": "code",
   "execution_count": 0,
   "metadata": {
    "colab": {
     "base_uri": "https://localhost:8080/",
     "height": 442
    },
    "colab_type": "code",
    "executionInfo": {
     "elapsed": 921,
     "status": "ok",
     "timestamp": 1574303985889,
     "user": {
      "displayName": "Chiqu Li",
      "photoUrl": "",
      "userId": "11343758097451996406"
     },
     "user_tz": 300
    },
    "id": "YhRvhNcZJAHw",
    "outputId": "da948343-d2d4-4c1c-a0ad-dde2c1bf72df"
   },
   "outputs": [
    {
     "name": "stdout",
     "output_type": "stream",
     "text": [
      "Model: \"model_10\"\n",
      "__________________________________________________________________________________________________\n",
      "Layer (type)                    Output Shape         Param #     Connected to                     \n",
      "==================================================================================================\n",
      "input_21 (InputLayer)           [(None, 20)]         0                                            \n",
      "__________________________________________________________________________________________________\n",
      "input_20 (InputLayer)           [(None, 8, 8, 2048)] 0                                            \n",
      "__________________________________________________________________________________________________\n",
      "embedding_9 (Embedding)         (None, 20, 256)      2560000     input_21[0][0]                   \n",
      "__________________________________________________________________________________________________\n",
      "sequential_9 (Sequential)       (None, 2048)         0           input_20[0][0]                   \n",
      "__________________________________________________________________________________________________\n",
      "lstm_9 (LSTM)                   (None, 128)          197120      embedding_9[0][0]                \n",
      "__________________________________________________________________________________________________\n",
      "concatenate_11 (Concatenate)    (None, 2176)         0           sequential_9[0][0]               \n",
      "                                                                 lstm_9[0][0]                     \n",
      "__________________________________________________________________________________________________\n",
      "dense_19 (Dense)                (None, 8)            17416       concatenate_11[0][0]             \n",
      "__________________________________________________________________________________________________\n",
      "dense_20 (Dense)                (None, 1)            9           dense_19[0][0]                   \n",
      "==================================================================================================\n",
      "Total params: 2,774,545\n",
      "Trainable params: 2,774,545\n",
      "Non-trainable params: 0\n",
      "__________________________________________________________________________________________________\n"
     ]
    }
   ],
   "source": [
    "model.summary()"
   ]
  },
  {
   "cell_type": "code",
   "execution_count": 0,
   "metadata": {
    "colab": {},
    "colab_type": "code",
    "id": "RNtMCz7-JCOV"
   },
   "outputs": [],
   "source": [
    "model.compile(optimizer='adam', \n",
    "              loss='binary_crossentropy',\n",
    "              metrics=['accuracy'])"
   ]
  },
  {
   "cell_type": "markdown",
   "metadata": {
    "colab_type": "text",
    "id": "xiH2M3EiG0IE"
   },
   "source": [
    "### Plot your model\n",
    "Create a schematic that shows the graph of your model, using [plot_model](https://keras.io/visualization/). This can be helpful to ensure the vision and question paths look at expected (it's also super cool, and more informative than .summary)."
   ]
  },
  {
   "cell_type": "code",
   "execution_count": 0,
   "metadata": {
    "colab": {
     "base_uri": "https://localhost:8080/",
     "height": 564
    },
    "colab_type": "code",
    "executionInfo": {
     "elapsed": 1194,
     "status": "ok",
     "timestamp": 1574303991438,
     "user": {
      "displayName": "Chiqu Li",
      "photoUrl": "",
      "userId": "11343758097451996406"
     },
     "user_tz": 300
    },
    "id": "1b9AmGgoJJu8",
    "outputId": "89058b29-3355-4f77-d2a4-ec467f209724"
   },
   "outputs": [
    {
     "data": {
      "image/png": "[encoded data removed]",
      "text/plain": [
       "<IPython.core.display.Image object>"
      ]
     },
     "execution_count": 187,
     "metadata": {
      "tags": []
     },
     "output_type": "execute_result"
    }
   ],
   "source": [
    "from tensorflow.keras.utils import plot_model\n",
    "plot_model(model, to_file='model.png')"
   ]
  },
  {
   "cell_type": "markdown",
   "metadata": {
    "colab_type": "text",
    "id": "EvQlVjWlJMsv"
   },
   "source": [
    "### Fit your model on a single batch\n",
    "Before training on your entire dataset, a helpful first step is to train repeatedly on a single batch, and verify the loss goes to zero. If your model is working properly, it should be able to memorize a batch of data. We will use ```model.train_on_batch``` for this."
   ]
  },
  {
   "cell_type": "code",
   "execution_count": 0,
   "metadata": {
    "colab": {},
    "colab_type": "code",
    "id": "x3o_omTLJPK7"
   },
   "outputs": [],
   "source": [
    "activations_batch, questions_batch, answers_batch, paths_batch = next(iter(train_ds))\n",
    "input_batch = [activations_batch, questions_batch, answers_batch, paths_batch]"
   ]
  },
  {
   "cell_type": "code",
   "execution_count": 0,
   "metadata": {
    "colab": {
     "base_uri": "https://localhost:8080/",
     "height": 527
    },
    "colab_type": "code",
    "executionInfo": {
     "elapsed": 5205,
     "status": "ok",
     "timestamp": 1574304001253,
     "user": {
      "displayName": "Chiqu Li",
      "photoUrl": "",
      "userId": "11343758097451996406"
     },
     "user_tz": 300
    },
    "id": "QUzmVRqcJX4E",
    "outputId": "43c7ccad-d874-45c2-a7a1-38374041ff7c"
   },
   "outputs": [
    {
     "name": "stdout",
     "output_type": "stream",
     "text": [
      "Epoch: 0  loss: 0.7019577 accuracy: 0.5625\n",
      "Epoch: 1  loss: 0.6512777 accuracy: 0.625\n",
      "Epoch: 2  loss: 0.6127236 accuracy: 0.71875\n",
      "Epoch: 3  loss: 0.5679769 accuracy: 0.90625\n",
      "Epoch: 4  loss: 0.53083396 accuracy: 0.90625\n",
      "Epoch: 5  loss: 0.4973626 accuracy: 0.875\n",
      "Epoch: 6  loss: 0.46153435 accuracy: 0.875\n",
      "Epoch: 7  loss: 0.4235386 accuracy: 0.96875\n",
      "Epoch: 8  loss: 0.3898171 accuracy: 1.0\n",
      "Epoch: 9  loss: 0.35759342 accuracy: 1.0\n",
      "Epoch: 10  loss: 0.32463694 accuracy: 1.0\n",
      "Epoch: 11  loss: 0.29002202 accuracy: 1.0\n",
      "Epoch: 12  loss: 0.2610746 accuracy: 1.0\n",
      "Epoch: 13  loss: 0.23556548 accuracy: 1.0\n",
      "Epoch: 14  loss: 0.20972154 accuracy: 1.0\n",
      "Epoch: 15  loss: 0.18309641 accuracy: 1.0\n",
      "Epoch: 16  loss: 0.16055514 accuracy: 1.0\n",
      "Epoch: 17  loss: 0.13952354 accuracy: 1.0\n",
      "Epoch: 18  loss: 0.11925569 accuracy: 1.0\n",
      "Epoch: 19  loss: 0.1039913 accuracy: 1.0\n",
      "Epoch: 20  loss: 0.08616849 accuracy: 1.0\n",
      "Epoch: 21  loss: 0.07418019 accuracy: 1.0\n",
      "Epoch: 22  loss: 0.060608353 accuracy: 1.0\n",
      "Epoch: 23  loss: 0.051176332 accuracy: 1.0\n",
      "Epoch: 24  loss: 0.04108814 accuracy: 1.0\n",
      "Epoch: 25  loss: 0.034874752 accuracy: 1.0\n",
      "Epoch: 26  loss: 0.028370585 accuracy: 1.0\n",
      "Epoch: 27  loss: 0.023819065 accuracy: 1.0\n",
      "Epoch: 28  loss: 0.019484341 accuracy: 1.0\n",
      "Epoch: 29  loss: 0.016902128 accuracy: 1.0\n"
     ]
    }
   ],
   "source": [
    "Epoch = 30\n",
    "for i in range(Epoch):\n",
    "  loss, accuracy = model.train_on_batch(x=[activations_batch, questions_batch], y = answers_batch)\n",
    "  print('Epoch:',i, ' loss:', loss, 'accuracy:', accuracy)"
   ]
  },
  {
   "cell_type": "markdown",
   "metadata": {
    "colab_type": "text",
    "id": "wr6c93aFQvYE"
   },
   "source": [
    "### Use your model to make predictions on the same batch above\n",
    "Compare the predicted answer to the label. Verify they match."
   ]
  },
  {
   "cell_type": "code",
   "execution_count": 0,
   "metadata": {
    "colab": {
     "base_uri": "https://localhost:8080/",
     "height": 561
    },
    "colab_type": "code",
    "executionInfo": {
     "elapsed": 1036,
     "status": "ok",
     "timestamp": 1574304005388,
     "user": {
      "displayName": "Chiqu Li",
      "photoUrl": "",
      "userId": "11343758097451996406"
     },
     "user_tz": 300
    },
    "id": "anm5gZZBQs11",
    "outputId": "e8ab3f6b-8da2-4c74-fc7e-4ed31e0599aa"
   },
   "outputs": [
    {
     "name": "stdout",
     "output_type": "stream",
     "text": [
      "[0.98470396] 1.0\n",
      "[0.00286964] 0.0\n",
      "[0.9889512] 1.0\n",
      "[0.00509921] 0.0\n",
      "[0.00467473] 0.0\n",
      "[0.00238535] 0.0\n",
      "[0.00840965] 0.0\n",
      "[0.03488377] 0.0\n",
      "[0.99657345] 1.0\n",
      "[0.01749104] 0.0\n",
      "[0.9955221] 1.0\n",
      "[0.9921366] 1.0\n",
      "[0.00259396] 0.0\n",
      "[0.07342112] 0.0\n",
      "[0.00193048] 0.0\n",
      "[0.00645542] 0.0\n",
      "[0.00386098] 0.0\n",
      "[0.99296725] 1.0\n",
      "[0.0067988] 0.0\n",
      "[0.9669404] 1.0\n",
      "[0.00279403] 0.0\n",
      "[0.9870454] 1.0\n",
      "[0.9770398] 1.0\n",
      "[0.02572849] 0.0\n",
      "[0.9783213] 1.0\n",
      "[0.02176148] 0.0\n",
      "[0.9971376] 1.0\n",
      "[0.9964632] 1.0\n",
      "[0.97437423] 1.0\n",
      "[0.00469077] 0.0\n",
      "[0.01951024] 0.0\n",
      "[0.9738732] 1.0\n"
     ]
    }
   ],
   "source": [
    "for prediction, answer in zip(model.predict(x=[activations_batch, questions_batch]), answers_batch):\n",
    "  print(prediction, answer.numpy())"
   ]
  },
  {
   "cell_type": "markdown",
   "metadata": {
    "colab_type": "text",
    "id": "y8RWIeL_QyiI"
   },
   "source": [
    "### Create a checkpoints directory\n",
    "\n",
    "Once you have been able to train your model on a single batch, it's time to begin training on your training dataset. It may take a while to train for a single epoch, and it would be unfortunate if Colab disconnected after training for a while, and you lost your progress.\n",
    "\n",
    "* After each training epoch, save the model's weights in a checkpoint file. You can learn more about how to create checkpoints [here](https://www.tensorflow.org/guide/keras/save_and_serialize). \n",
    "\n",
    "* To resume training, load the latest checkpoint from disk. This will restore the latest weights and resume your progress. If it does not exist, begin training from scratch.\n",
    "\n",
    "* As a tip, you may want to store your checkpoints in Google Drive, so you'll still have access to them if Colab disconnects. \n",
    "\n",
    "Note that running long jobs is not what Colab is intended for. Normally, you could simple save your checkpoints on the machine you're working on. Saving to drive adds an extra step, but it's worthwhile learning how to do.\n",
    "\n",
    "Tip: after mounting Drive, **do not** programmatically run any commands to delete files from your checkpoints folder or elsewhere (e.g., by using ```!rm -rf```) in Colab. If you're not careful, you may accidentally wipe out your entire drive if you make a programming mistake. \n",
    "\n",
    "* Instead, if you need to delete checkpoints, do so manually through the drive user interface. Note that files deleted through the UI may take a minute or so to \"actually\" be deleted as reflected by ```!ls``` commands run from Colab."
   ]
  },
  {
   "cell_type": "code",
   "execution_count": 0,
   "metadata": {
    "colab": {
     "base_uri": "https://localhost:8080/",
     "height": 54
    },
    "colab_type": "code",
    "executionInfo": {
     "elapsed": 888,
     "status": "ok",
     "timestamp": 1574304022134,
     "user": {
      "displayName": "Chiqu Li",
      "photoUrl": "",
      "userId": "11343758097451996406"
     },
     "user_tz": 300
    },
    "id": "CyXAxfL3eI34",
    "outputId": "6a8fceee-6f24-412b-a1ff-5983dde7147c"
   },
   "outputs": [
    {
     "name": "stdout",
     "output_type": "stream",
     "text": [
      "Drive already mounted at /content/gdrive; to attempt to forcibly remount, call drive.mount(\"/content/gdrive\", force_remount=True).\n"
     ]
    }
   ],
   "source": [
    "# Mount drive\n",
    "drive.mount('/content/gdrive')\n",
    "drive_root = '/content/gdrive/My Drive/'"
   ]
  },
  {
   "cell_type": "code",
   "execution_count": 0,
   "metadata": {
    "colab": {},
    "colab_type": "code",
    "id": "ShaloSB5eWyL"
   },
   "outputs": [],
   "source": [
    "checkpoint_dir = os.path.join(drive_root, \"checkpoints\")\n",
    "checkpoint_dir = os.path.join(checkpoint_dir, \"hw4\")\n",
    "\n",
    "# Used for formatting\n",
    "checkpoint_path = os.path.join(checkpoint_dir, \"cp-{epoch:08d}.ckpt\")"
   ]
  },
  {
   "cell_type": "code",
   "execution_count": 0,
   "metadata": {
    "colab": {
     "base_uri": "https://localhost:8080/",
     "height": 51
    },
    "colab_type": "code",
    "executionInfo": {
     "elapsed": 587,
     "status": "ok",
     "timestamp": 1574304025830,
     "user": {
      "displayName": "Chiqu Li",
      "photoUrl": "",
      "userId": "11343758097451996406"
     },
     "user_tz": 300
    },
    "id": "a-pSwI9UefQC",
    "outputId": "3598a4f2-5d21-4d9e-d72a-9365bb6a56d0"
   },
   "outputs": [
    {
     "name": "stdout",
     "output_type": "stream",
     "text": [
      "Checkpoints directory is /content/gdrive/My Drive/checkpoints/hw4\n",
      "Checkpoints folder already exists\n"
     ]
    }
   ],
   "source": [
    "print(\"Checkpoints directory is\", checkpoint_dir)\n",
    "if os.path.exists(checkpoint_dir):\n",
    "  print(\"Checkpoints folder already exists\")\n",
    "else:\n",
    "  print(\"Creating a checkpoints directory\")\n",
    "  os.makedirs(checkpoint_dir)"
   ]
  },
  {
   "cell_type": "markdown",
   "metadata": {
    "colab_type": "text",
    "id": "7kz_3gakejc6"
   },
   "source": [
    "###Restore the latest checkpoint (if it exists)."
   ]
  },
  {
   "cell_type": "code",
   "execution_count": 0,
   "metadata": {
    "colab": {
     "base_uri": "https://localhost:8080/",
     "height": 34
    },
    "colab_type": "code",
    "executionInfo": {
     "elapsed": 873,
     "status": "ok",
     "timestamp": 1574304028592,
     "user": {
      "displayName": "Chiqu Li",
      "photoUrl": "",
      "userId": "11343758097451996406"
     },
     "user_tz": 300
    },
    "id": "d4G0V6KMehBF",
    "outputId": "a1003ac4-9736-4b2c-acd6-058ca2190321"
   },
   "outputs": [
    {
     "name": "stdout",
     "output_type": "stream",
     "text": [
      "Checkpoint not found. Starting from scratch\n"
     ]
    }
   ],
   "source": [
    "# You should not need to modify this code.\n",
    "latest = tf.train.latest_checkpoint(checkpoint_dir)\n",
    "if latest != None:\n",
    "  print(\"Loading weights from\", latest)\n",
    "  model.load_weights(latest)\n",
    "else:\n",
    "  print(\"Checkpoint not found. Starting from scratch\")"
   ]
  },
  {
   "cell_type": "markdown",
   "metadata": {
    "colab_type": "text",
    "id": "z663gSnyewvz"
   },
   "source": [
    "###Metrics"
   ]
  },
  {
   "cell_type": "code",
   "execution_count": 0,
   "metadata": {
    "colab": {},
    "colab_type": "code",
    "id": "O1BvoqL-epRV"
   },
   "outputs": [],
   "source": [
    "train_loss = tf.keras.metrics.Mean(name='train_loss')\n",
    "train_accuracy = tf.keras.metrics.Mean(name='train_accuracy')\n",
    "\n",
    "val_loss = tf.keras.metrics.BinaryCrossentropy(name='val_loss')\n",
    "val_accuracy = tf.keras.metrics.BinaryAccuracy(name='val_accuracy')"
   ]
  },
  {
   "cell_type": "markdown",
   "metadata": {
    "colab_type": "text",
    "id": "dCtVGdXte0VH"
   },
   "source": [
    "###Code to evaluate on the validation dataset"
   ]
  },
  {
   "cell_type": "code",
   "execution_count": 0,
   "metadata": {
    "colab": {},
    "colab_type": "code",
    "id": "K04vwAAte2mt"
   },
   "outputs": [],
   "source": [
    "# You should not need to modify this.\n",
    "def evaluate(max_steps=None):\n",
    "  steps = 0\n",
    "  for activation_batch, question_batch, answer_batch, path_batch in val_ds:\n",
    "    if max_steps != None and steps == max_steps:\n",
    "      break\n",
    "    predictions = model.predict(x=[activation_batch, question_batch])\n",
    "    steps += 1 \n",
    "    # Record metrics after each batch\n",
    "    val_loss(answer_batch, predictions)\n",
    "    val_accuracy(answer_batch, predictions)"
   ]
  },
  {
   "cell_type": "markdown",
   "metadata": {
    "colab_type": "text",
    "id": "VYA2WxzifNWd"
   },
   "source": [
    "### Train the model\n",
    "As before, we'll write our training loop using ```train_on_batch```. This is intermediate in complexity between using ```.fit``` and writing everything from scratch using a ```GradientTape```. Because we're not using ```.fit```. Since we're not using .fit, there's a bit of extra code we need to write ourselves to track loss and accuracy as we go."
   ]
  },
  {
   "cell_type": "code",
   "execution_count": 0,
   "metadata": {
    "colab": {
     "base_uri": "https://localhost:8080/",
     "height": 357
    },
    "colab_type": "code",
    "executionInfo": {
     "elapsed": 988257,
     "status": "ok",
     "timestamp": 1574305074633,
     "user": {
      "displayName": "Chiqu Li",
      "photoUrl": "",
      "userId": "11343758097451996406"
     },
     "user_tz": 300
    },
    "id": "Dg5HSQoRfQJl",
    "outputId": "e8c08a1e-26db-4196-a7b8-7c6d514911e0"
   },
   "outputs": [
    {
     "name": "stdout",
     "output_type": "stream",
     "text": [
      "Epoch 0, Loss: 0.73, Accuracy: 50.84, Val Loss 0.69, Val Accuracy 53.03, Time: 101.4 secs\n",
      "Saving weights\n",
      "Epoch 1, Loss: 0.67, Accuracy: 57.82, Val Loss 0.70, Val Accuracy 53.00, Time: 98.7 secs\n",
      "Saving weights\n",
      "Epoch 2, Loss: 0.64, Accuracy: 62.69, Val Loss 0.72, Val Accuracy 53.69, Time: 98.7 secs\n",
      "Saving weights\n",
      "Epoch 3, Loss: 0.61, Accuracy: 65.49, Val Loss 0.78, Val Accuracy 53.12, Time: 99.0 secs\n",
      "Saving weights\n",
      "Epoch 4, Loss: 0.57, Accuracy: 68.88, Val Loss 0.80, Val Accuracy 52.94, Time: 98.2 secs\n",
      "Saving weights\n",
      "Epoch 5, Loss: 0.53, Accuracy: 71.43, Val Loss 0.84, Val Accuracy 53.09, Time: 99.6 secs\n",
      "Saving weights\n",
      "Epoch 6, Loss: 0.50, Accuracy: 73.78, Val Loss 0.92, Val Accuracy 51.75, Time: 97.4 secs\n",
      "Saving weights\n",
      "Epoch 7, Loss: 0.47, Accuracy: 75.31, Val Loss 0.98, Val Accuracy 52.41, Time: 97.9 secs\n",
      "Saving weights\n",
      "Epoch 8, Loss: 0.45, Accuracy: 77.21, Val Loss 1.05, Val Accuracy 52.41, Time: 97.4 secs\n",
      "Saving weights\n",
      "Epoch 9, Loss: 0.43, Accuracy: 77.86, Val Loss 1.07, Val Accuracy 51.31, Time: 97.6 secs\n",
      "Saving weights\n"
     ]
    }
   ],
   "source": [
    "# Your code here\n",
    "# Complete this cell (there are only a few parts to write)\n",
    "\n",
    "# Used to track loss and accuracy as we go\n",
    "# You should not need to modify these\n",
    "train_loss_history, train_acc_history = [], []\n",
    "val_loss_history, val_acc_history = [], []\n",
    "\n",
    "epochs = 10 # Your code here\n",
    "\n",
    "# Training loop\n",
    "for epoch in range(epochs):\n",
    "\n",
    "  start = time.time()\n",
    "\n",
    "  # Train for one epoch\n",
    "  for activation_batch, question_batch, answer_batch, path_batch in train_ds:\n",
    "    result = model.train_on_batch(x=[activation_batch, question_batch], y=answer_batch)\n",
    "\n",
    "    # Record metrics after each batch\n",
    "    train_loss(result[0])\n",
    "    train_accuracy(result[1])\n",
    "\n",
    "  # Evaluate for a few steps\n",
    "  evaluate(max_steps=100)\n",
    "\n",
    "  # Print progress\n",
    "  # You should not need to modify this.\n",
    "  template = 'Epoch {}, Loss: {:.2f}, Accuracy: {:.2f}, Val Loss {:.2f}, Val Accuracy {:.2f}, Time: {:.1f} secs'\n",
    "  print(template.format(epoch,\n",
    "                        train_loss.result(),\n",
    "                        train_accuracy.result() * 100,\n",
    "                        val_loss.result(),\n",
    "                        val_accuracy.result() * 100,\n",
    "                        time.time() - start))\n",
    "  \n",
    "  # Record history\n",
    "  train_loss_history.append(train_loss.result())\n",
    "  train_acc_history.append(train_accuracy.result() * 100)\n",
    "  val_loss_history.append(val_loss.result())\n",
    "  val_acc_history.append(val_accuracy.result() * 100)\n",
    "\n",
    "  # Reset the metrics for the next epoch\n",
    "  train_loss.reset_states()\n",
    "  train_accuracy.reset_states()\n",
    "  val_loss.reset_states()\n",
    "  val_accuracy.reset_states()\n",
    "\n",
    "  # Your code here\n",
    "  # Save a checkpoint after each epoch\n",
    "  print(\"Saving weights\")\n",
    "  model.save_weights('/content/gdrive/My Drive/checkpoints/hw4')"
   ]
  },
  {
   "cell_type": "markdown",
   "metadata": {
    "colab_type": "text",
    "id": "RDDFn6eYgoKp"
   },
   "source": [
    "###Create plots of your training and validation loss and accuracy"
   ]
  },
  {
   "cell_type": "code",
   "execution_count": 0,
   "metadata": {
    "colab": {
     "base_uri": "https://localhost:8080/",
     "height": 545
    },
    "colab_type": "code",
    "executionInfo": {
     "elapsed": 1377,
     "status": "ok",
     "timestamp": 1574305102302,
     "user": {
      "displayName": "Chiqu Li",
      "photoUrl": "",
      "userId": "11343758097451996406"
     },
     "user_tz": 300
    },
    "id": "u6oAugVWgaQw",
    "outputId": "db8e1043-3ea5-4add-9d23-73e4e194ad46"
   },
   "outputs": [
    {
     "data": {
      "image/png": "[encoded data removed]",
      "text/plain": [
       "<Figure size 432x288 with 1 Axes>"
      ]
     },
     "metadata": {
      "tags": []
     },
     "output_type": "display_data"
    },
    {
     "data": {
      "image/png": "[encoded data removed]",
      "text/plain": [
       "<Figure size 432x288 with 1 Axes>"
      ]
     },
     "metadata": {
      "tags": []
     },
     "output_type": "display_data"
    }
   ],
   "source": [
    "acc = train_acc_history\n",
    "val_acc = val_acc_history\n",
    "loss = train_loss_history\n",
    "val_loss = val_loss_history\n",
    "\n",
    "epochs = range(len(acc))\n",
    "\n",
    "plt.plot(epochs, acc, 'bo', label='Training acc')\n",
    "plt.plot(epochs, val_acc, 'b', label='Validation acc')\n",
    "plt.title('Training and validation accuracy')\n",
    "plt.legend()\n",
    "\n",
    "plt.figure()\n",
    "\n",
    "plt.plot(epochs, loss, 'bo', label='Training loss')\n",
    "plt.plot(epochs, val_loss, 'b', label='Validation loss')\n",
    "plt.title('Training and validation loss')\n",
    "plt.legend()\n",
    "\n",
    "plt.show()"
   ]
  },
  {
   "cell_type": "markdown",
   "metadata": {
    "colab_type": "text",
    "id": "FPu3AcXR8ivl"
   },
   "source": [
    "###Run one experiment to improve accuracy"
   ]
  },
  {
   "cell_type": "markdown",
   "metadata": {
    "colab_type": "text",
    "id": "YJ9L7t0zvH22"
   },
   "source": [
    "Here I add one more relu dense layer and increase the nodes. And I run the same 10 epochs in a batch size. And it turned out that my what I have done get paid off. The loss decreased and the accuracy improved."
   ]
  },
  {
   "cell_type": "code",
   "execution_count": 0,
   "metadata": {
    "colab": {},
    "colab_type": "code",
    "id": "D74li9234KEV"
   },
   "outputs": [],
   "source": [
    "image_input = Input(shape=(8, 8, 2048)) \n",
    "vision_model = Sequential()\n",
    "# Used to reduce the number of parameters (rather using a dense layer here).\n",
    "vision_model.add(tf.keras.layers.GlobalAveragePooling2D())\n",
    "# Output of your vision model\n",
    "encoded_image = vision_model(image_input) \n",
    "\n",
    "# Write your test processing model that takes the vectorized and padded\n",
    "# question as input.\n",
    "question_input = Input(shape=(20,), dtype='int32')\n",
    "embedded_question = Embedding(input_dim=4737, output_dim=256, input_length=100)(question_input)\n",
    "encoded_question = LSTM(256)(embedded_question)\n",
    "\n",
    "merged = tf.keras.layers.concatenate([encoded_image, encoded_question])\n",
    "#add two dense layers\n",
    "output = Dense(128, activation='relu')(merged)\n",
    "output = Dense(32, activation='relu')(output)\n",
    "output = Dense(1, activation='sigmoid')(output)\n",
    "#final model\n",
    "model = Model(inputs=[image_input, question_input], outputs=output)"
   ]
  },
  {
   "cell_type": "code",
   "execution_count": 0,
   "metadata": {
    "colab": {
     "base_uri": "https://localhost:8080/",
     "height": 476
    },
    "colab_type": "code",
    "executionInfo": {
     "elapsed": 907,
     "status": "ok",
     "timestamp": 1574305505101,
     "user": {
      "displayName": "Chiqu Li",
      "photoUrl": "",
      "userId": "11343758097451996406"
     },
     "user_tz": 300
    },
    "id": "ZWxDgg5amYRq",
    "outputId": "a36803e3-d329-443a-b223-e842f8940f23"
   },
   "outputs": [
    {
     "name": "stdout",
     "output_type": "stream",
     "text": [
      "Model: \"model_11\"\n",
      "__________________________________________________________________________________________________\n",
      "Layer (type)                    Output Shape         Param #     Connected to                     \n",
      "==================================================================================================\n",
      "input_23 (InputLayer)           [(None, 20)]         0                                            \n",
      "__________________________________________________________________________________________________\n",
      "input_22 (InputLayer)           [(None, 8, 8, 2048)] 0                                            \n",
      "__________________________________________________________________________________________________\n",
      "embedding_10 (Embedding)        (None, 20, 256)      2560000     input_23[0][0]                   \n",
      "__________________________________________________________________________________________________\n",
      "sequential_10 (Sequential)      (None, 2048)         0           input_22[0][0]                   \n",
      "__________________________________________________________________________________________________\n",
      "lstm_10 (LSTM)                  (None, 128)          197120      embedding_10[0][0]               \n",
      "__________________________________________________________________________________________________\n",
      "concatenate_12 (Concatenate)    (None, 2176)         0           sequential_10[0][0]              \n",
      "                                                                 lstm_10[0][0]                    \n",
      "__________________________________________________________________________________________________\n",
      "dense_21 (Dense)                (None, 64)           139328      concatenate_12[0][0]             \n",
      "__________________________________________________________________________________________________\n",
      "dense_22 (Dense)                (None, 32)           2080        dense_21[0][0]                   \n",
      "__________________________________________________________________________________________________\n",
      "dense_23 (Dense)                (None, 1)            33          dense_22[0][0]                   \n",
      "==================================================================================================\n",
      "Total params: 2,898,561\n",
      "Trainable params: 2,898,561\n",
      "Non-trainable params: 0\n",
      "__________________________________________________________________________________________________\n"
     ]
    }
   ],
   "source": [
    "model.summary()"
   ]
  },
  {
   "cell_type": "code",
   "execution_count": 0,
   "metadata": {
    "colab": {},
    "colab_type": "code",
    "id": "FhBoGURjmbko"
   },
   "outputs": [],
   "source": [
    "model.compile(optimizer='adam', \n",
    "              loss='binary_crossentropy',\n",
    "              metrics=['accuracy'])"
   ]
  },
  {
   "cell_type": "code",
   "execution_count": 0,
   "metadata": {
    "colab": {},
    "colab_type": "code",
    "id": "05pQY2Mv6-jg"
   },
   "outputs": [],
   "source": [
    "def evaluate(max_steps=None):\n",
    "  steps = 0\n",
    "  for activation_batch, question_batch, answer_batch, path_batch in val_ds:\n",
    "    if max_steps != None and steps == max_steps:\n",
    "      break\n",
    "    predictions = model.predict(x=[activation_batch, question_batch])\n",
    "    steps += 1 \n",
    "    # Record metrics after each batch\n",
    "    val_loss(answer_batch, predictions)\n",
    "    val_accuracy(answer_batch, predictions)"
   ]
  },
  {
   "cell_type": "code",
   "execution_count": 0,
   "metadata": {
    "colab": {
     "base_uri": "https://localhost:8080/",
     "height": 357
    },
    "colab_type": "code",
    "executionInfo": {
     "elapsed": 1072265,
     "status": "ok",
     "timestamp": 1574306833814,
     "user": {
      "displayName": "Chiqu Li",
      "photoUrl": "",
      "userId": "11343758097451996406"
     },
     "user_tz": 300
    },
    "id": "XTjJEbyr7NO4",
    "outputId": "e4864b45-b222-4b55-9e71-9a93857dc2cd"
   },
   "outputs": [
    {
     "name": "stdout",
     "output_type": "stream",
     "text": [
      "Epoch 0, Loss: 0.68, Accuracy: 55.39, Val Loss 0.70, Val Accuracy 53.09, Time: 103.3 secs\n",
      "Saving weights\n",
      "Epoch 1, Loss: 0.64, Accuracy: 62.51, Val Loss 0.73, Val Accuracy 53.41, Time: 101.8 secs\n",
      "Saving weights\n",
      "Epoch 2, Loss: 0.60, Accuracy: 67.32, Val Loss 0.75, Val Accuracy 54.12, Time: 104.4 secs\n",
      "Saving weights\n",
      "Epoch 3, Loss: 0.55, Accuracy: 70.59, Val Loss 0.81, Val Accuracy 53.47, Time: 111.4 secs\n",
      "Saving weights\n",
      "Epoch 4, Loss: 0.51, Accuracy: 72.86, Val Loss 0.90, Val Accuracy 53.84, Time: 112.9 secs\n",
      "Saving weights\n",
      "Epoch 5, Loss: 0.48, Accuracy: 74.89, Val Loss 0.95, Val Accuracy 54.22, Time: 110.6 secs\n",
      "Saving weights\n",
      "Epoch 6, Loss: 0.46, Accuracy: 76.43, Val Loss 1.01, Val Accuracy 53.91, Time: 108.2 secs\n",
      "Saving weights\n",
      "Epoch 7, Loss: 0.43, Accuracy: 78.03, Val Loss 1.22, Val Accuracy 53.59, Time: 105.1 secs\n",
      "Saving weights\n",
      "Epoch 8, Loss: 0.41, Accuracy: 79.27, Val Loss 1.10, Val Accuracy 53.84, Time: 106.9 secs\n",
      "Saving weights\n",
      "Epoch 9, Loss: 0.39, Accuracy: 80.11, Val Loss 1.21, Val Accuracy 53.38, Time: 105.2 secs\n",
      "Saving weights\n"
     ]
    }
   ],
   "source": [
    "# Your code here\n",
    "# Complete this cell (there are only a few parts to write)\n",
    "\n",
    "# Used to track loss and accuracy as we go\n",
    "# You should not need to modify these\n",
    "train_loss_history, train_acc_history = [], []\n",
    "val_loss_history, val_acc_history = [], []\n",
    "\n",
    "epochs = 10 # Your code here\n",
    "\n",
    "# Training loop\n",
    "for epoch in range(epochs):\n",
    "\n",
    "  start = time.time()\n",
    "\n",
    "  # Train for one epoch\n",
    "  for activation_batch, question_batch, answer_batch, path_batch in train_ds:\n",
    "    result = model.train_on_batch(x=[activation_batch, question_batch], y=answer_batch)\n",
    "\n",
    "    # Record metrics after each batch\n",
    "    train_loss(result[0])\n",
    "    train_accuracy(result[1])\n",
    "\n",
    "  # Evaluate for a few steps\n",
    "  evaluate(max_steps=100)\n",
    "\n",
    "  # Print progress\n",
    "  # You should not need to modify this.\n",
    "  template = 'Epoch {}, Loss: {:.2f}, Accuracy: {:.2f}, Val Loss {:.2f}, Val Accuracy {:.2f}, Time: {:.1f} secs'\n",
    "  print(template.format(epoch,\n",
    "                        train_loss.result(),\n",
    "                        train_accuracy.result() * 100,\n",
    "                        val_loss.result(),\n",
    "                        val_accuracy.result() * 100,\n",
    "                        time.time() - start))\n",
    "  \n",
    "  # Record history\n",
    "  train_loss_history.append(train_loss.result())\n",
    "  train_acc_history.append(train_accuracy.result() * 100)\n",
    "  val_loss_history.append(val_loss.result())\n",
    "  val_acc_history.append(val_accuracy.result() * 100)\n",
    "\n",
    "  # Reset the metrics for the next epoch\n",
    "  train_loss.reset_states()\n",
    "  train_accuracy.reset_states()\n",
    "  val_loss.reset_states()\n",
    "  val_accuracy.reset_states()\n",
    "\n",
    "  # Your code here\n",
    "  # Save a checkpoint after each epoch\n",
    "  print(\"Saving weights\")\n",
    "  model.save_weights('/content/gdrive/My Drive/checkpoints/hw4')"
   ]
  },
  {
   "cell_type": "code",
   "execution_count": 0,
   "metadata": {
    "colab": {
     "base_uri": "https://localhost:8080/",
     "height": 545
    },
    "colab_type": "code",
    "executionInfo": {
     "elapsed": 1322,
     "status": "ok",
     "timestamp": 1574307782803,
     "user": {
      "displayName": "Chiqu Li",
      "photoUrl": "",
      "userId": "11343758097451996406"
     },
     "user_tz": 300
    },
    "id": "pRB7765Utqfq",
    "outputId": "552122a3-5fa6-40a3-ec40-5a948fbab4b0"
   },
   "outputs": [
    {
     "data": {
      "image/png": "[encoded data removed]",
      "text/plain": [
       "<Figure size 432x288 with 1 Axes>"
      ]
     },
     "metadata": {
      "tags": []
     },
     "output_type": "display_data"
    },
    {
     "data": {
      "image/png": "[encoded data removed]",
      "text/plain": [
       "<Figure size 432x288 with 1 Axes>"
      ]
     },
     "metadata": {
      "tags": []
     },
     "output_type": "display_data"
    }
   ],
   "source": [
    "acc = train_acc_history\n",
    "val_acc = val_acc_history\n",
    "loss = train_loss_history\n",
    "val_loss = val_loss_history\n",
    "\n",
    "epochs = range(len(acc))\n",
    "\n",
    "plt.plot(epochs, acc, 'bo', label='Training acc')\n",
    "plt.plot(epochs, val_acc, 'b', label='Validation acc')\n",
    "plt.title('Training and validation accuracy(improvement)')\n",
    "plt.legend()\n",
    "\n",
    "plt.figure()\n",
    "\n",
    "plt.plot(epochs, loss, 'bo', label='Training loss')\n",
    "plt.plot(epochs, val_loss, 'b', label='Validation loss')\n",
    "plt.title('Training and validation loss')\n",
    "plt.legend()\n",
    "\n",
    "plt.show()"
   ]
  },
  {
   "cell_type": "markdown",
   "metadata": {
    "colab_type": "text",
    "id": "D7ztdmwe8kns"
   },
   "source": [
    "###Finally, evaluate your model on the test set"
   ]
  },
  {
   "cell_type": "code",
   "execution_count": 0,
   "metadata": {
    "colab": {
     "base_uri": "https://localhost:8080/",
     "height": 34
    },
    "colab_type": "code",
    "executionInfo": {
     "elapsed": 968,
     "status": "ok",
     "timestamp": 1574305137305,
     "user": {
      "displayName": "Chiqu Li",
      "photoUrl": "",
      "userId": "11343758097451996406"
     },
     "user_tz": 300
    },
    "id": "UsC1dQA_8nWS",
    "outputId": "812e8262-c81e-4176-8723-ea30af813976"
   },
   "outputs": [
    {
     "name": "stdout",
     "output_type": "stream",
     "text": [
      "loaded weights from /content/gdrive/My Drive/checkpoints/hw4\n"
     ]
    }
   ],
   "source": [
    "# Restore the latest checkpoint\n",
    "checkpoint_dir = os.path.join(drive_root, \"checkpoints\")\n",
    "latest = tf.train.latest_checkpoint(checkpoint_dir)\n",
    "assert latest != None\n",
    "model.load_weights(latest)\n",
    "print(\"loaded weights from\", latest)"
   ]
  },
  {
   "cell_type": "code",
   "execution_count": 0,
   "metadata": {
    "colab": {},
    "colab_type": "code",
    "id": "gkfJ-R1g_cS2"
   },
   "outputs": [],
   "source": [
    "val_loss = tf.keras.metrics.BinaryCrossentropy(name='val_loss')\n",
    "val_accuracy = tf.keras.metrics.BinaryAccuracy(name='val_accuracy')"
   ]
  },
  {
   "cell_type": "code",
   "execution_count": 0,
   "metadata": {
    "colab": {
     "base_uri": "https://localhost:8080/",
     "height": 34
    },
    "colab_type": "code",
    "executionInfo": {
     "elapsed": 14514,
     "status": "ok",
     "timestamp": 1574307651514,
     "user": {
      "displayName": "Chiqu Li",
      "photoUrl": "",
      "userId": "11343758097451996406"
     },
     "user_tz": 300
    },
    "id": "jwLu1PNNvw8N",
    "outputId": "5431f000-f365-4c31-eb49-886f648e636e"
   },
   "outputs": [
    {
     "name": "stdout",
     "output_type": "stream",
     "text": [
      "test Loss 1.19, test Accuracy 53.66\n"
     ]
    }
   ],
   "source": [
    "for activation_batch, question_batch, answer_batch, path_batch in test_ds:\n",
    "    predictions = model.predict(x=[activation_batch, question_batch])\n",
    "    val_loss(answer_batch, predictions)\n",
    "    val_accuracy(answer_batch, predictions)\n",
    "template = 'test Loss {:.2f}, test Accuracy {:.2f}'\n",
    "print(template.format(val_loss.result(),val_accuracy.result() * 100))"
   ]
  },
  {
   "cell_type": "markdown",
   "metadata": {
    "colab_type": "text",
    "id": "Qm3h_yEO1NRx"
   },
   "source": [
    "I find that the test accuracy is pretty bad because of overfit. It is a result of the small size of the dataset. So, train the model in a big dataset is the basic way to solve overfit."
   ]
  }
 ],
 "metadata": {
  "accelerator": "GPU",
  "colab": {
   "collapsed_sections": [],
   "name": "“notebook2_hw4_2.ipynb”的副本",
   "provenance": [
    {
     "file_id": "1tynK6l9w9MGCE15o0_TDJTqLSYdegG_2",
     "timestamp": 1574726832974
    }
   ],
   "toc_visible": true
  },
  "kernelspec": {
   "display_name": "Python 3",
   "language": "python",
   "name": "python3"
  },
  "language_info": {
   "codemirror_mode": {
    "name": "ipython",
    "version": 3
   },
   "file_extension": ".py",
   "mimetype": "text/x-python",
   "name": "python",
   "nbconvert_exporter": "python",
   "pygments_lexer": "ipython3",
   "version": "3.7.4"
  }
 },
 "nbformat": 4,
 "nbformat_minor": 1
}
